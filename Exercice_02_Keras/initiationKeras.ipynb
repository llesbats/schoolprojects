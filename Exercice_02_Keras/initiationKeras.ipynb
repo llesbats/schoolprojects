{
 "cells": [
  {
   "cell_type": "markdown",
   "id": "05a4d68e",
   "metadata": {},
   "source": [
    "# INITIATION KERAS\n",
    "## Génération aléatoire de données "
   ]
  },
  {
   "cell_type": "code",
   "execution_count": 1,
   "id": "43419537",
   "metadata": {},
   "outputs": [],
   "source": [
    "import numpy as np\n",
    "# données d'entrainement : \n",
    "# entrées : 100 instances de 3 variables\n",
    "datatrain = np.random.random((100,3))\n",
    "# sortie : 100 valeurs\n",
    "labeltrain = np.random.random((100,1))\n",
    "\n",
    "# données pour validation : 10 valeurs\n",
    "datatest = np.random.random((10,3))\n",
    "labeltest = np.random.random((10,1))"
   ]
  },
  {
   "cell_type": "markdown",
   "id": "ff2e0026",
   "metadata": {},
   "source": [
    "# Création Réseau de Neurones: Architecture"
   ]
  },
  {
   "cell_type": "markdown",
   "id": "d35cbc80",
   "metadata": {},
   "source": [
    "Importation pour modèles NN Fully Connected (Perceptron)\n",
    "Création d'un modèle NN de type Sequential avec couches denses"
   ]
  },
  {
   "cell_type": "code",
   "execution_count": 2,
   "id": "79fa4d4b",
   "metadata": {},
   "outputs": [],
   "source": [
    "from keras.models import Sequential \n",
    "from keras.layers import Dense\n",
    "\n",
    "model = Sequential()"
   ]
  },
  {
   "cell_type": "markdown",
   "id": "6e577617",
   "metadata": {},
   "source": [
    "Ajout des couches une après une avec model.add\n",
    "Cependant une seule commande pour créer la couche d'entrée ET de la première couche cachée :\n",
    "-  input_dim spécifie le nombre d'entrées du modèle NN\n",
    "-  premier argument : nombre de neurones cachés sur la première couche cachée (ici 12)\n",
    "-  choix de la fonction d'activation (activation='   ')"
   ]
  },
  {
   "cell_type": "code",
   "execution_count": 3,
   "id": "225ff103",
   "metadata": {},
   "outputs": [],
   "source": [
    "# Par exemple choix de 12 neurones sur première couche cachée avec la fonction d'activation de type relu\n",
    "# input_dim spécifie le nombre de neurones sur la couche d'entrée\n",
    "#model.add(Dense(12,\n",
    "#                input_dim=3,\n",
    "#                activation='relu'))\n",
    "# autre possibilité : le nombre de neurones d'entrée est obtenu directement par \n",
    "# le nombre de colonnes des données d'entrainement dans datatrain (créé précéemment)   \n",
    "model.add(Dense(12,\n",
    "                activation='relu',\n",
    "                input_dim=datatrain.shape[1]))"
   ]
  },
  {
   "cell_type": "markdown",
   "id": "d3fc5833",
   "metadata": {},
   "source": [
    "Ajout d'une seconde cachée avec 8 neurones avec même type de fonction activation"
   ]
  },
  {
   "cell_type": "code",
   "execution_count": 4,
   "id": "2f9dc778",
   "metadata": {},
   "outputs": [],
   "source": [
    "model.add(Dense(8,activation='relu'))"
   ]
  },
  {
   "cell_type": "markdown",
   "id": "d59e1c03",
   "metadata": {},
   "source": [
    "Ajout d'une couche avec 1 seul neurone et fonction activation de type sigmoide : c'est la dernière couche : couche de sortie"
   ]
  },
  {
   "cell_type": "code",
   "execution_count": 5,
   "id": "e11678ff",
   "metadata": {},
   "outputs": [],
   "source": [
    "model.add(Dense(1,activation='sigmoid'))"
   ]
  },
  {
   "cell_type": "markdown",
   "id": "803a524b",
   "metadata": {},
   "source": [
    "# Création Réseau de Neurones: verification"
   ]
  },
  {
   "cell_type": "code",
   "execution_count": 6,
   "id": "e43d1d54",
   "metadata": {},
   "outputs": [
    {
     "name": "stdout",
     "output_type": "stream",
     "text": [
      "Model: \"sequential\"\n",
      "_________________________________________________________________\n",
      "Layer (type)                 Output Shape              Param #   \n",
      "=================================================================\n",
      "dense (Dense)                (None, 12)                48        \n",
      "_________________________________________________________________\n",
      "dense_1 (Dense)              (None, 8)                 104       \n",
      "_________________________________________________________________\n",
      "dense_2 (Dense)              (None, 1)                 9         \n",
      "=================================================================\n",
      "Total params: 161\n",
      "Trainable params: 161\n",
      "Non-trainable params: 0\n",
      "_________________________________________________________________\n"
     ]
    }
   ],
   "source": [
    "model.summary()"
   ]
  },
  {
   "cell_type": "markdown",
   "id": "c7ac4db6",
   "metadata": {},
   "source": [
    "# Compilation modèle "
   ]
  },
  {
   "cell_type": "markdown",
   "id": "6b29430b",
   "metadata": {},
   "source": [
    "La compilation consiste à définir l'algorithme d'optimisation, la fonctions loss et la metrique "
   ]
  },
  {
   "cell_type": "code",
   "execution_count": 7,
   "id": "3e336db9",
   "metadata": {},
   "outputs": [],
   "source": [
    "model.compile(optimizer='SGD',\n",
    "              loss='mse',\n",
    "              metrics=['mae'])"
   ]
  },
  {
   "cell_type": "markdown",
   "id": "b1c00e91",
   "metadata": {},
   "source": [
    "optimizer = 'SGD' / 'rmsprop' / 'adam' / \n",
    "loss = 'mse' / 'binary_crossentropy' / 'categoical_crossentropy'\n",
    "metrics = ['accuracy'] / ['mae']"
   ]
  },
  {
   "cell_type": "markdown",
   "id": "3bdd84e2",
   "metadata": {},
   "source": [
    "# Apprentissage modèle "
   ]
  },
  {
   "cell_type": "code",
   "execution_count": 8,
   "id": "dd24d062",
   "metadata": {},
   "outputs": [
    {
     "name": "stdout",
     "output_type": "stream",
     "text": [
      "Epoch 1/15\n",
      "4/4 - 1s - loss: 0.0906 - mae: 0.2678 - val_loss: 0.1002 - val_mae: 0.2854\n",
      "Epoch 2/15\n",
      "4/4 - 0s - loss: 0.0904 - mae: 0.2677 - val_loss: 0.1005 - val_mae: 0.2860\n",
      "Epoch 3/15\n",
      "4/4 - 0s - loss: 0.0903 - mae: 0.2678 - val_loss: 0.1005 - val_mae: 0.2861\n",
      "Epoch 4/15\n",
      "4/4 - 0s - loss: 0.0902 - mae: 0.2677 - val_loss: 0.1012 - val_mae: 0.2874\n",
      "Epoch 5/15\n",
      "4/4 - 0s - loss: 0.0899 - mae: 0.2676 - val_loss: 0.1016 - val_mae: 0.2880\n",
      "Epoch 6/15\n",
      "4/4 - 0s - loss: 0.0898 - mae: 0.2675 - val_loss: 0.1022 - val_mae: 0.2890\n",
      "Epoch 7/15\n",
      "4/4 - 0s - loss: 0.0896 - mae: 0.2674 - val_loss: 0.1025 - val_mae: 0.2896\n",
      "Epoch 8/15\n",
      "4/4 - 0s - loss: 0.0894 - mae: 0.2673 - val_loss: 0.1030 - val_mae: 0.2904\n",
      "Epoch 9/15\n",
      "4/4 - 0s - loss: 0.0892 - mae: 0.2672 - val_loss: 0.1031 - val_mae: 0.2906\n",
      "Epoch 10/15\n",
      "4/4 - 0s - loss: 0.0892 - mae: 0.2672 - val_loss: 0.1035 - val_mae: 0.2912\n",
      "Epoch 11/15\n",
      "4/4 - 0s - loss: 0.0890 - mae: 0.2671 - val_loss: 0.1035 - val_mae: 0.2911\n",
      "Epoch 12/15\n",
      "4/4 - 0s - loss: 0.0890 - mae: 0.2671 - val_loss: 0.1035 - val_mae: 0.2911\n",
      "Epoch 13/15\n",
      "4/4 - 0s - loss: 0.0890 - mae: 0.2670 - val_loss: 0.1037 - val_mae: 0.2915\n",
      "Epoch 14/15\n",
      "4/4 - 0s - loss: 0.0890 - mae: 0.2671 - val_loss: 0.1037 - val_mae: 0.2914\n",
      "Epoch 15/15\n",
      "4/4 - 0s - loss: 0.0889 - mae: 0.2670 - val_loss: 0.1036 - val_mae: 0.2913\n"
     ]
    },
    {
     "data": {
      "text/plain": [
       "<keras.callbacks.History at 0x7fd64deaa850>"
      ]
     },
     "execution_count": 8,
     "metadata": {},
     "output_type": "execute_result"
    }
   ],
   "source": [
    "model.fit(datatrain,\n",
    "           labeltrain,\n",
    "           batch_size=32,\n",
    "           epochs=15,\n",
    "           verbose=2,\n",
    "           validation_data=(datatest,labeltest))"
   ]
  },
  {
   "cell_type": "markdown",
   "id": "b0638ba8",
   "metadata": {},
   "source": [
    "# Evaluation predictions modèle NN"
   ]
  },
  {
   "cell_type": "code",
   "execution_count": 9,
   "id": "3e1ba407",
   "metadata": {},
   "outputs": [
    {
     "name": "stdout",
     "output_type": "stream",
     "text": [
      "1/1 [==============================] - 0s 13ms/step - loss: 0.1036 - mae: 0.2913\n",
      "[0.10359998047351837, 0.29133719205856323]\n"
     ]
    }
   ],
   "source": [
    "predictions = model.predict(datatest)\n",
    "score=model.evaluate(datatest,labeltest)\n",
    "print(score)"
   ]
  },
  {
   "cell_type": "markdown",
   "id": "dd4c3e8f",
   "metadata": {},
   "source": [
    "# Enregistrement modèle "
   ]
  },
  {
   "cell_type": "code",
   "execution_count": 10,
   "id": "d173969c",
   "metadata": {},
   "outputs": [],
   "source": [
    "from keras.models import load_model\n",
    "# sauvegarde:\n",
    "model.save('model_file.h5')\n",
    "# récupération\n",
    "my_model = load_model('model_file.h5')"
   ]
  },
  {
   "cell_type": "markdown",
   "id": "1b2d6a0d",
   "metadata": {},
   "source": [
    "# Cas de la classification multiclasse\n"
   ]
  },
  {
   "cell_type": "code",
   "execution_count": 11,
   "id": "8fe04c13",
   "metadata": {},
   "outputs": [
    {
     "name": "stdout",
     "output_type": "stream",
     "text": [
      "[[0.54395638]\n",
      " [0.13149646]\n",
      " [0.06537397]\n",
      " [0.04454426]\n",
      " [0.74705829]\n",
      " [0.86614305]\n",
      " [0.11664652]\n",
      " [0.12382124]\n",
      " [0.48559275]\n",
      " [0.03923454]]\n",
      "[[0. 1.]\n",
      " [1. 0.]\n",
      " [1. 0.]\n",
      " [1. 0.]\n",
      " [0. 1.]\n",
      " [0. 1.]\n",
      " [1. 0.]\n",
      " [1. 0.]\n",
      " [1. 0.]\n",
      " [1. 0.]]\n"
     ]
    }
   ],
   "source": [
    "from tensorflow.keras.utils import to_categorical\n",
    "\n",
    "# les sorties ont été générées aléatoirement entre 0 et 1, on fait des arrondis au plus proche pour créer\n",
    "# deux classes : 0 et 1\n",
    "labeltest_entier=np.round(labeltest)\n",
    "labeltrain_entier=np.round(labeltrain)\n",
    "\n",
    "# Codage One-Hot:\n",
    "# - 0 devient [1 0] et 1 devient [0 1]\n",
    "LABELtest = to_categorical((labeltest_entier), 2)\n",
    "LABELtrain = to_categorical((labeltrain_entier), 2)\n",
    "print(labeltest)\n",
    "print(LABELtest)"
   ]
  },
  {
   "cell_type": "code",
   "execution_count": 12,
   "id": "dc74a1e9",
   "metadata": {},
   "outputs": [],
   "source": [
    "# nouveau modèle avec 2 neurones de sortie et fonction d'activation softmax\n",
    "model_bis = Sequential()\n",
    "model_bis.add(Dense(12,\n",
    "                    activation='relu',\n",
    "                    input_dim=datatrain.shape[1]))\n",
    "model_bis.add(Dense(2,activation='softmax'))"
   ]
  },
  {
   "cell_type": "code",
   "execution_count": 13,
   "id": "9cbc0f5d",
   "metadata": {},
   "outputs": [
    {
     "name": "stdout",
     "output_type": "stream",
     "text": [
      "Epoch 1/15\n",
      "4/4 - 1s - loss: 0.7445 - accuracy: 0.4900 - val_loss: 0.7879 - val_accuracy: 0.3000\n",
      "Epoch 2/15\n",
      "4/4 - 0s - loss: 0.7401 - accuracy: 0.4900 - val_loss: 0.7823 - val_accuracy: 0.3000\n",
      "Epoch 3/15\n",
      "4/4 - 0s - loss: 0.7363 - accuracy: 0.4900 - val_loss: 0.7766 - val_accuracy: 0.3000\n",
      "Epoch 4/15\n",
      "4/4 - 0s - loss: 0.7327 - accuracy: 0.4900 - val_loss: 0.7712 - val_accuracy: 0.3000\n",
      "Epoch 5/15\n",
      "4/4 - 0s - loss: 0.7293 - accuracy: 0.4900 - val_loss: 0.7663 - val_accuracy: 0.3000\n",
      "Epoch 6/15\n",
      "4/4 - 0s - loss: 0.7261 - accuracy: 0.5000 - val_loss: 0.7617 - val_accuracy: 0.3000\n",
      "Epoch 7/15\n",
      "4/4 - 0s - loss: 0.7233 - accuracy: 0.5000 - val_loss: 0.7576 - val_accuracy: 0.3000\n",
      "Epoch 8/15\n",
      "4/4 - 0s - loss: 0.7208 - accuracy: 0.4900 - val_loss: 0.7539 - val_accuracy: 0.3000\n",
      "Epoch 9/15\n",
      "4/4 - 0s - loss: 0.7187 - accuracy: 0.4900 - val_loss: 0.7504 - val_accuracy: 0.3000\n",
      "Epoch 10/15\n",
      "4/4 - 0s - loss: 0.7164 - accuracy: 0.4900 - val_loss: 0.7476 - val_accuracy: 0.3000\n",
      "Epoch 11/15\n",
      "4/4 - 0s - loss: 0.7145 - accuracy: 0.4900 - val_loss: 0.7441 - val_accuracy: 0.3000\n",
      "Epoch 12/15\n",
      "4/4 - 0s - loss: 0.7125 - accuracy: 0.4900 - val_loss: 0.7415 - val_accuracy: 0.3000\n",
      "Epoch 13/15\n",
      "4/4 - 0s - loss: 0.7109 - accuracy: 0.4900 - val_loss: 0.7395 - val_accuracy: 0.3000\n",
      "Epoch 14/15\n",
      "4/4 - 0s - loss: 0.7095 - accuracy: 0.4800 - val_loss: 0.7371 - val_accuracy: 0.3000\n",
      "Epoch 15/15\n",
      "4/4 - 0s - loss: 0.7082 - accuracy: 0.4800 - val_loss: 0.7346 - val_accuracy: 0.4000\n"
     ]
    },
    {
     "data": {
      "text/plain": [
       "<keras.callbacks.History at 0x7fd64d2264c0>"
      ]
     },
     "execution_count": 13,
     "metadata": {},
     "output_type": "execute_result"
    }
   ],
   "source": [
    "model_bis.compile(optimizer='adam',\n",
    "                  loss='binary_crossentropy',\n",
    "                  metrics=['accuracy'])\n",
    "\n",
    "model_bis.fit(datatrain,\n",
    "              LABELtrain,\n",
    "              batch_size=32,\n",
    "              epochs=15,\n",
    "              verbose=2,\n",
    "              validation_data=(datatest,LABELtest))"
   ]
  },
  {
   "cell_type": "code",
   "execution_count": 14,
   "id": "0972fbbd",
   "metadata": {},
   "outputs": [
    {
     "name": "stdout",
     "output_type": "stream",
     "text": [
      "1/1 [==============================] - 0s 15ms/step - loss: 0.7346 - accuracy: 0.4000\n",
      "[[0.47639138 0.5236086 ]\n",
      " [0.39278388 0.6072161 ]\n",
      " [0.47874272 0.5212572 ]\n",
      " [0.5004253  0.49957472]\n",
      " [0.37739778 0.6226023 ]\n",
      " [0.48654664 0.5134533 ]\n",
      " [0.3971544  0.6028456 ]\n",
      " [0.4907626  0.50923735]\n",
      " [0.40183723 0.5981628 ]\n",
      " [0.39888495 0.60111505]]\n"
     ]
    }
   ],
   "source": [
    "predictions = model_bis.predict(datatest)\n",
    "score=model_bis.evaluate(datatest,LABELtest)\n",
    "\n",
    "print(predictions)"
   ]
  }
 ],
 "metadata": {
  "kernelspec": {
   "display_name": "Python 3",
   "language": "python",
   "name": "python3"
  },
  "language_info": {
   "codemirror_mode": {
    "name": "ipython",
    "version": 3
   },
   "file_extension": ".py",
   "mimetype": "text/x-python",
   "name": "python",
   "nbconvert_exporter": "python",
   "pygments_lexer": "ipython3",
   "version": "3.8.8"
  }
 },
 "nbformat": 4,
 "nbformat_minor": 5
}
