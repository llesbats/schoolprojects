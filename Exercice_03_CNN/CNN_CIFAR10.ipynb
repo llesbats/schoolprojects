{
 "cells": [
  {
   "cell_type": "markdown",
   "metadata": {
    "id": "3HdaEbC_bErR"
   },
   "source": [
    "# CNN (Convolutional Neural Network) avec *tf.keras*\n",
    "\n",
    "Dans ce notebook, nous allons créer des réseaux de neurones pour classifier les images du jeu de données [CIFAR10 small image classification](https://keras.io/datasets/)\n",
    "\n",
    "**Objectifs**\n",
    "- Dans un premier temps, nous chargerons les données et nous les préparerons.\n",
    "- Puis nous implémenterons un réseau fully connected\n",
    "- Enfin, nous comparerons avec une implémentation CNN\n",
    "- Et pour finir, nous optimiserons le CNN."
   ]
  },
  {
   "cell_type": "markdown",
   "metadata": {
    "id": "y0vXXc0IbErT"
   },
   "source": [
    "#◢ Import & Vérification des versions des librairies"
   ]
  },
  {
   "cell_type": "code",
   "execution_count": null,
   "metadata": {
    "id": "6rXmxug-bErU"
   },
   "outputs": [],
   "source": [
    "%matplotlib inline\n",
    "%tensorflow_version 2.x"
   ]
  },
  {
   "cell_type": "code",
   "execution_count": null,
   "metadata": {
    "id": "QeFhA7zNbErY"
   },
   "outputs": [],
   "source": [
    "import tensorflow as tf\n",
    "from tensorflow import keras  # tf.keras\n",
    "import sys\n",
    "import numpy as np\n",
    "import pandas as pd\n",
    "import matplotlib as mpl\n",
    "import matplotlib.pyplot as plt"
   ]
  },
  {
   "cell_type": "markdown",
   "metadata": {
    "id": "MG0pjIibbErh"
   },
   "source": [
    "#◢ Chargement du jeu de données CIFAR10 small image classification\n",
    "\n",
    "Keras permet de charger de nombreux datasets avec `keras.datasets`.\n",
    "Nous utiliserons le jeu de données CIFAR10 small image classification, qui est une base de données de 60000 images regroupant 10 catégories d'images (\"avion\",\"voiture\", \"oiseau\",\"chat\",\"cerf\",\"chien\",\"grenouille\",\"cheval\",\"bateau\",\"camion\").\n",
    "\n",
    "Elle regroupe 50000 images d'apprentissage et 10000 images de test\n",
    "Ces images sont en couleur et de 32 pixels de côté."
   ]
  },
  {
   "cell_type": "code",
   "execution_count": null,
   "metadata": {
    "id": "qA_5vItVbErh"
   },
   "outputs": [],
   "source": [
    "classes = [\n",
    "    \"avion\",\n",
    "    \"voiture\", \n",
    "    \"oiseau\",\n",
    "    \"chat\",\n",
    "    \"cerf\",\n",
    "    \"chien\",\n",
    "    \"grenouille\",\n",
    "    \"cheval\",\n",
    "    \"bateau\",\n",
    "    \"camion\"\n",
    "]"
   ]
  },
  {
   "cell_type": "markdown",
   "metadata": {
    "id": "gxf9rnvEbErl"
   },
   "source": [
    "Chargez le jeu de données en utilisant `keras.datasets.cifar10.load_data()`\n",
    "Séparez le en :\n",
    "- un jeu d'entrainement de 45000 images\n",
    "- un jeu de validation de 5000 images\n",
    "- un jeu de test de 10000 images"
   ]
  },
  {
   "cell_type": "code",
   "execution_count": null,
   "metadata": {
    "id": "wFNS8azGbErm"
   },
   "outputs": [],
   "source": [
    "cifar10 = keras.datasets.cifar10\n",
    "(X_train_full, y_train_full), (X_test, y_test) = cifar10.load_data()\n",
    "\n",
    "# TODO : Compléter\n",
    "X_valid, X_train = X_train_full[XXX], X_train_full[XXX]\n",
    "y_valid, y_train = y_train_full[XXX], y_train_full[XXX]"
   ]
  },
  {
   "cell_type": "markdown",
   "metadata": {
    "id": "J8ygg40IbEro"
   },
   "source": [
    "#◢ Pré-Processing\n",
    "Réduisez les valeurs des pixels entre 0 et 1."
   ]
  },
  {
   "cell_type": "code",
   "execution_count": null,
   "metadata": {
    "id": "0mRxjmH7bErp"
   },
   "outputs": [],
   "source": [
    "X_train = X_train / 255\n",
    "X_valid = X_valid / 255\n",
    "X_test = X_test / 255\n"
   ]
  },
  {
   "cell_type": "markdown",
   "metadata": {
    "id": "V9kpGhOTbErr"
   },
   "source": [
    "Affichez quelques images en utilisant la fonction de la librairie matplot `plt.imshow()` et affichez la classe. "
   ]
  },
  {
   "cell_type": "code",
   "execution_count": null,
   "metadata": {
    "id": "xiPdWrl8bErs"
   },
   "outputs": [],
   "source": [
    "plt.figure(figsize=(25, 25))\n",
    "n_rows, n_cols = 10, 5\n",
    "for row in range(n_rows):\n",
    "    for col in range(n_cols):\n",
    "        i = row * n_cols + col\n",
    "        plt.subplot(n_rows, n_cols, i + 1)\n",
    "        plt.imshow(X_train[i])\n",
    "        plt.xlabel(classes[y_train[i][0]], fontsize=30)\n",
    "plt.tight_layout()\n",
    "plt.show()"
   ]
  },
  {
   "cell_type": "markdown",
   "metadata": {
    "id": "bc43YYE-bErx"
   },
   "source": [
    "#◢ Construction d'un modèle Fully Connected\n",
    "\n",
    "Construction d'un modèle avec l'API `keras.models.Sequential`, sans aucun argument, et avec 5 couches:\n",
    "  * Une couche `Flatten` (`keras.layers.Flatten`) pour convertir chaque image de taille 32x32x3 image en un simple tableau de 3072 pixels. Comme cette couche est la première de votre modèle, vous devez spécifier l'argument `input_shape`.\n",
    "  * Trois couche `Dense` (`keras.layers.Dense`) avec 64 neurones (également appelés units), et la fonction d'activation `\"relu\"`.\n",
    "  * Pour finir une couche `Dense` avec 10 neurones (1 par classe), et avec la fonction d'activation `\"softmax\"` pour s'assurer que la somme de toutes les probabilités des classes estimées pour chaque image est égale à 1."
   ]
  },
  {
   "cell_type": "code",
   "execution_count": null,
   "metadata": {
    "id": "oqaCHSeDbEry"
   },
   "outputs": [],
   "source": [
    "# TODO : Compléter\n",
    "model = keras.models.Sequential([\n",
    "      XXX                           \n",
    "])"
   ]
  },
  {
   "cell_type": "markdown",
   "metadata": {
    "id": "FAOsr8U2bEr0"
   },
   "source": [
    "Compilez le modèle en utilisant :\n",
    "- la fonction loss `sparse_categorical_crossentropy`\n",
    "- l'optimizer `keras.optimizers.SGD` avec un `learning rate` à 0.01\n",
    "- la métrique `accuracy`"
   ]
  },
  {
   "cell_type": "code",
   "execution_count": null,
   "metadata": {
    "id": "IGPF-zGAbEr1"
   },
   "outputs": [],
   "source": [
    "# TODO : Compléter\n",
    "model.compile(XXX)"
   ]
  },
  {
   "cell_type": "markdown",
   "metadata": {
    "id": "R02aGpoFbEr3"
   },
   "source": [
    "Entrainez le modèle avec 20 epochs.\n",
    "Utilisez les données de validation"
   ]
  },
  {
   "cell_type": "code",
   "execution_count": null,
   "metadata": {
    "id": "crJnCZanbEr8"
   },
   "outputs": [],
   "source": [
    "# TODO : Compléter\n",
    "history = model.fit(XXX)"
   ]
  },
  {
   "cell_type": "markdown",
   "metadata": {
    "id": "yV3_P-eLbEr-"
   },
   "source": [
    "Affichez le graphe d'apprentissage du modèle"
   ]
  },
  {
   "cell_type": "code",
   "execution_count": null,
   "metadata": {
    "id": "GlKaq6TSbEr_"
   },
   "outputs": [],
   "source": [
    "pd.DataFrame(history.history).plot()\n",
    "plt.axis([0, 19, 0, 2])\n",
    "plt.show()"
   ]
  },
  {
   "cell_type": "markdown",
   "metadata": {
    "id": "jQgTps98Y9U8"
   },
   "source": []
  },
  {
   "cell_type": "markdown",
   "metadata": {
    "id": "R9zfQ_onbEsC"
   },
   "source": [
    "Nous voyons sur cette courbe que le modèle atteint une accuracy d'environ 45% et que l'accuracy sur le jeu de validation a tendance à osciller (manque de généralisation du modèle).\n",
    "\n",
    "Avant d'essayer de construire un modèle avec une architecture CNN,appelons la méthode `summary()` sur le modèle afin de noter le nombre de paramètres entrainables."
   ]
  },
  {
   "cell_type": "code",
   "execution_count": null,
   "metadata": {
    "id": "f9e1B8BqbEsD"
   },
   "outputs": [],
   "source": [
    "# TODO : Compléter\n",
    "model.XXX"
   ]
  },
  {
   "cell_type": "markdown",
   "metadata": {
    "id": "7tOTsSlnbEsG"
   },
   "source": [
    "#◢ Construction d'un modèle CNN\n",
    "\n",
    "Construction d'un modèle CNN avec l'API `keras.models.Sequential`:\n",
    "- **la phase de feature learning** : Construisons 3 blocs VGG de type conv2D(filters=32) >> conv2D(filters=32) >> MaxPool2D (pool_size=2) >> conv2D(filters=64) >> conv2D(filters=64) >> MaxPool2D(pool_size=2) >> conv2D(filters=128) >> conv2D(filters=128) >> MaxPool2D(pool_size=2) <br>\n",
    "Pour chaque couche `conv2D`, la `taille du kernel` est de `3`, le `padding` est à `same` et la `fonction d'activation` est `relu`\n",
    "- **la phase de classification**  : flatten >> dense (128 units + relu) >> Dense (10 units + softmax)\n",
    "\n",
    "Compilez le modèle en utilisant :\n",
    "- la fonction loss `sparse_categorical_crossentropy`\n",
    "- l'optimizer `keras.optimizers.SGD` avec un `learning rate` à 0.01\n",
    "- la métrique `accuracy`\n",
    "\n",
    "Entrainez le modèle avec 20 epochs. Utilisez les données de validation"
   ]
  },
  {
   "cell_type": "code",
   "execution_count": null,
   "metadata": {
    "id": "BYwB6BjnbEsG"
   },
   "outputs": [],
   "source": [
    "# TODO : Compléter\n",
    "model = keras.models.Sequential([\n",
    "    XXX\n",
    "])\n",
    "\n",
    "model.compile(XXX)\n",
    "\n",
    "history = model.fit(XXX)"
   ]
  },
  {
   "cell_type": "code",
   "execution_count": null,
   "metadata": {
    "id": "VwdytJXXbEsJ"
   },
   "outputs": [],
   "source": [
    "pd.DataFrame(history.history).plot()\n",
    "plt.axis([0, 19, 0, 2])\n",
    "plt.show()"
   ]
  },
  {
   "cell_type": "markdown",
   "metadata": {
    "id": "5zSBgIiPbDq4"
   },
   "source": [
    "Nous notons que le modèle est instable et a tendance à overfiter. pour celà, que diriez-vous de modifier le learning rate (essayer 0.1 et 0.05). \n",
    "\n",
    "Si cela ne suffit pas, rajoutez une couche de dropout de 0.2 juste après chaque bloc VGG. (un bloc VGG étant conv2D >> conv2D >> MaxPool2D)."
   ]
  },
  {
   "cell_type": "markdown",
   "metadata": {
    "id": "j8xOaa2KbEsL"
   },
   "source": [
    "## Que remarquez-vous lors de l'entrainement du modèle ?\n",
    "\n",
    "Appelez la méthode `summary()` sur le modèle"
   ]
  },
  {
   "cell_type": "code",
   "execution_count": null,
   "metadata": {
    "id": "72g994f-bEsM"
   },
   "outputs": [],
   "source": [
    "# TODO : Compléter\n",
    "model.XXX"
   ]
  },
  {
   "cell_type": "markdown",
   "metadata": {
    "id": "oV1tE8rIehB_"
   },
   "source": [
    "Comparez le nombre de paramètres entre le réseau fully connected et le CNN"
   ]
  },
  {
   "cell_type": "markdown",
   "metadata": {
    "id": "vB_WYbcTe8KZ"
   },
   "source": [
    "#◢  Prédiction\n",
    "Appelez la méthode `predict()` sur le modèle afin d'estimer la probabilité de chaque classe pour chaque instance (pour une meilleure lisibilité, utilisez la méthode `round()` sur les probabilités générées):"
   ]
  },
  {
   "cell_type": "code",
   "execution_count": null,
   "metadata": {
    "id": "e-WgjA5PfAzy"
   },
   "outputs": [],
   "source": [
    "y_proba = model.predict(X_test)\n",
    "y_proba[:10].round(3)"
   ]
  },
  {
   "cell_type": "markdown",
   "metadata": {
    "id": "pWr0g1cufRcr"
   },
   "source": [
    "A partir des probabilités des différentes valeurs, déduisons-en la valeur prédite (celle qui a le % maximum => utilisez la fonction `argmax`)"
   ]
  },
  {
   "cell_type": "code",
   "execution_count": null,
   "metadata": {
    "id": "SXei3ZUCfRpD"
   },
   "outputs": [],
   "source": [
    "y_pred = y_proba.argmax(axis=1)\n",
    "y_pred"
   ]
  },
  {
   "cell_type": "markdown",
   "metadata": {
    "id": "pASQ_BWUbEsR"
   },
   "source": [
    "#◢ Visualisation des prédictions \n",
    "\n",
    "Méthodes utilitaires pour afficher une image et un bar chart représentant la probabilité des prédictions pour chaque chiffre de 0 à 9 (les prédictions en bleu sont les prédictions correctes et en rouge celles incorrectes)"
   ]
  },
  {
   "cell_type": "code",
   "execution_count": null,
   "metadata": {
    "id": "1etZOiIbbEsR"
   },
   "outputs": [],
   "source": [
    "def plot_prediction_image(predictions_array, true_label, img):\n",
    "\n",
    "    plt.imshow(img, cmap=plt.cm.binary)\n",
    "\n",
    "    predicted_label = np.argmax(predictions_array)\n",
    "    if predicted_label == true_label:\n",
    "        color = 'blue'\n",
    "    else:\n",
    "        color = 'red'\n",
    "\n",
    "    plt.xlabel(\"Objet prédit {} {:2.0f}% ({})\".format(classes[predicted_label],\n",
    "                                                        np.max(predictions_array) *100,\n",
    "                                                        classes[true_label[0]]),\n",
    "                                                        color=color)\n",
    "    \n",
    "def plot_prediction_bar_chart(predictions_array, true_label, img):\n",
    "    thisplot = plt.bar(classes, predictions_array, color=\"#777777\")\n",
    "    plt.ylim([0, 1])\n",
    "    plt.grid(False)\n",
    "    predicted_label = np.argmax(predictions_array)\n",
    "    thisplot[predicted_label].set_color('red')\n",
    "    thisplot[true_label[0]].set_color('blue')\n",
    "    plt.xticks(classes, rotation=90)"
   ]
  },
  {
   "cell_type": "markdown",
   "metadata": {
    "id": "6ECdJDQKbEsU"
   },
   "source": [
    "Affichage de l'image à prédire et de la probabilité des prédictions pour chaque chiffre de 0 à 9 pour la première image"
   ]
  },
  {
   "cell_type": "code",
   "execution_count": null,
   "metadata": {
    "id": "cqMGr8uIbEsU"
   },
   "outputs": [],
   "source": [
    "i = 1\n",
    "plt.figure(figsize=(6,3))\n",
    "plt.subplot(1,2,1)\n",
    "plot_prediction_image(y_proba[i], y_test[i], X_test[i])\n",
    "plt.subplot(1,2,2)\n",
    "plot_prediction_bar_chart(y_proba[i], y_test[i], X_test[i])\n",
    "plt.show()"
   ]
  },
  {
   "cell_type": "markdown",
   "metadata": {
    "id": "ZHl8DhwFbEsX"
   },
   "source": [
    "## Affichons les 15 premières images et visualisons les prédictions "
   ]
  },
  {
   "cell_type": "code",
   "execution_count": null,
   "metadata": {
    "id": "Yknf3YqUbEsY"
   },
   "outputs": [],
   "source": [
    "num_rows = 5\n",
    "num_cols = 3\n",
    "plt.figure(figsize=(5*num_cols, 3*num_rows))\n",
    "for row in range(num_rows):\n",
    "    for col in range(num_cols):\n",
    "        index = num_cols * row + col\n",
    "        plt.subplot(num_rows, 2*num_cols, 2*index+1)\n",
    "        plot_prediction_image(y_proba[index], y_test[index], X_test[index])\n",
    "        plt.subplot(num_rows, 2*num_cols, 2*index+2)\n",
    "        plot_prediction_bar_chart(y_proba[index], y_test[index], X_test[index])\n",
    "plt.tight_layout()\n",
    "plt.show()\n",
    "\n"
   ]
  },
  {
   "cell_type": "markdown",
   "metadata": {
    "id": "Yil4jFsubEsa"
   },
   "source": [
    "## Focus sur les images mal prédites"
   ]
  },
  {
   "cell_type": "code",
   "execution_count": null,
   "metadata": {
    "id": "xAilJ2TukBH-"
   },
   "outputs": [],
   "source": [
    "y_test2 = y_test.reshape((1,-1))[0]"
   ]
  },
  {
   "cell_type": "code",
   "execution_count": null,
   "metadata": {
    "id": "-cw9NtYLbEsb"
   },
   "outputs": [],
   "source": [
    "y_proba_false = y_proba[y_pred != y_test2]\n",
    "y_test_false = y_test[y_pred != y_test2]\n",
    "X_test_false = X_test[y_pred != y_test2]"
   ]
  },
  {
   "cell_type": "code",
   "execution_count": null,
   "metadata": {
    "id": "Ju1ESFgVbEsd"
   },
   "outputs": [],
   "source": [
    "num_rows = 5\n",
    "num_cols = 3\n",
    "plt.figure(figsize=(5*num_cols, 3*num_rows))\n",
    "for row in range(num_rows):\n",
    "    for col in range(num_cols):\n",
    "        index = num_cols * row + col\n",
    "        plt.subplot(num_rows, 2*num_cols, 2*index+1)\n",
    "        plot_prediction_image(y_proba_false[index], y_test_false[index], X_test_false[index])\n",
    "        plt.subplot(num_rows, 2*num_cols, 2*index+2)\n",
    "        plot_prediction_bar_chart(y_proba_false[index], y_test_false[index], X_test_false[index])\n",
    "plt.tight_layout()\n",
    "plt.show()"
   ]
  }
 ],
 "metadata": {
  "accelerator": "GPU",
  "colab": {
   "collapsed_sections": [],
   "name": "CNN_CIFAR10.ipynb",
   "provenance": []
  },
  "kernelspec": {
   "display_name": "Python 3",
   "language": "python",
   "name": "python3"
  },
  "language_info": {
   "codemirror_mode": {
    "name": "ipython",
    "version": 3
   },
   "file_extension": ".py",
   "mimetype": "text/x-python",
   "name": "python",
   "nbconvert_exporter": "python",
   "pygments_lexer": "ipython3",
   "version": "3.8.8"
  }
 },
 "nbformat": 4,
 "nbformat_minor": 1
}
